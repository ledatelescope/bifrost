{
  "cells": [
    {
      "cell_type": "markdown",
      "id": "1dfd7ec3",
      "metadata": {
        "id": "1dfd7ec3"
      },
      "source": [
        "# Getting started with Bifrost\n",
        "\n",
        "These tutorials require an installation of Bifrost and a machine with a GPU. The simplest way to start is using Google Colab. There are tips for other ways to run them in [the README](https://github.com/ledatelescope/bifrost/blob/master/tutorial/README.md).\n",
        "\n",
        "<a href=\"https://colab.research.google.com/github/ledatelescope/bifrost/blob/master/tutorial/00_getting_started.ipynb\"><img src=\"https://colab.research.google.com/assets/colab-badge.svg\" alt=\"Open in Colab\"></a>\n",
        "\n",
        "Once Bifrost is installed you can load the Python API with\n",
        "```python\n",
        "import bifrost\n",
        "```"
      ]
    },
    {
      "cell_type": "code",
      "execution_count": 8,
      "id": "proud-container",
      "metadata": {
        "id": "proud-container"
      },
      "outputs": [],
      "source": [
        "%%capture install_log\n",
        "# Import bifrost, but attempt to auto-install if needed (and we're running on\n",
        "# Colab). If something goes wrong, evaluate install_log.show() in a new block\n",
        "# to retrieve the details.\n",
        "try:\n",
        "  import bifrost\n",
        "except ModuleNotFoundError:\n",
        "  try:\n",
        "    import google.colab\n",
        "    !sudo apt-get -qq install exuberant-ctags libopenblas-dev software-properties-common build-essential\n",
        "    !pip install -q contextlib2 pint simplejson scipy ctypesgen==1.0.2\n",
        "    ![ -d ~/bifrost/.git ] || git clone https://github.com/ledatelescope/bifrost ~/bifrost\n",
        "    !(cd ~/bifrost && ./configure && make -j all && sudo make install)\n",
        "    import bifrost\n",
        "  except ModuleNotFoundError:\n",
        "    print(\"Sorry, could not import bifrost and we're not on colab.\")"
      ]
    },
    {
      "cell_type": "markdown",
      "id": "rental-equipment",
      "metadata": {
        "id": "rental-equipment"
      },
      "source": [
        "This loads the core parts of Bifrost and several useful functions.  The main way of interacting with Bifrost is through the `bifrost.ndarray`, a sub-class of `numpy.ndarray`.  You can create an empty array with:"
      ]
    },
    {
      "cell_type": "code",
      "execution_count": 4,
      "id": "subject-quebec",
      "metadata": {
        "id": "subject-quebec",
        "outputId": "35f71b57-fd1b-4113-ad3d-5e7430ad603e",
        "colab": {
          "base_uri": "https://localhost:8080/"
        }
      },
      "outputs": [
        {
          "output_type": "stream",
          "name": "stdout",
          "text": [
            "<class 'bifrost.ndarray.ndarray'> float32 (2, 4096) system\n",
            "[[ 2.2875120e-35  0.0000000e+00  1.5581004e-38 ...  1.3563156e-19\n",
            "   2.8297670e+20  2.6373977e+23]\n",
            " [ 2.0704474e-19  7.1220526e+28  1.4251251e-13 ...  2.7550649e-40\n",
            "   6.1529782e-39 -5.7935773e-05]]\n"
          ]
        }
      ],
      "source": [
        "data = bifrost.ndarray(shape=(2,4096), dtype='f32', space='system')\n",
        "print(type(data), data.dtype, data.shape, data.bf.space)\n",
        "print(data)"
      ]
    },
    {
      "cell_type": "markdown",
      "id": "eleven-omaha",
      "metadata": {
        "id": "eleven-omaha"
      },
      "source": [
        "Note that bifrost defines datatypes differently to numpy:\n",
        "```\n",
        "f32: 32-bit float (equivalent to numpy float32)\n",
        "cf32: complex 32-bit data (equivalent to numpy complex64)\n",
        "i[8,16,32]: signed integer datatypes of 8, 16 and 32-bit width\n",
        "u[8,16,32]: unsigned integer datatypes of 8, 16 and 32-bit width\n",
        "ci[4,8,16,32]: complex 4-bit per sample, 8-bit, 16-bit and 32-bit datatypes\n",
        "```\n",
        "\n",
        "The `ci4`, `ci8` and `ci16` datatypes do not have an equivalent numpy type, but are commonly encountered in radio astronomy.\n",
        "\n",
        "You can also use the `bifrost.ndarray` to wrap existing numpy arrays:"
      ]
    },
    {
      "cell_type": "code",
      "execution_count": 5,
      "id": "lightweight-madrid",
      "metadata": {
        "id": "lightweight-madrid",
        "outputId": "e0b40abb-6d54-4fa8-d552-36d73feea486",
        "colab": {
          "base_uri": "https://localhost:8080/"
        }
      },
      "outputs": [
        {
          "output_type": "stream",
          "name": "stdout",
          "text": [
            "<class 'bifrost.ndarray.ndarray'> float64 (2, 4096) system\n",
            "r: [[-0.3415904   0.07395837  1.1215293  ...  0.52340138 -0.43369748\n",
            "   0.99678685]\n",
            " [-0.74268647  1.9056947  -0.23712155 ...  0.65987519  1.13804761\n",
            "   0.36587976]]\n",
            "data: [[-0.3415904   0.07395837  1.1215293  ...  0.52340138 -0.43369748\n",
            "   0.99678685]\n",
            " [-0.74268647  1.9056947  -0.23712155 ...  0.65987519  1.13804761\n",
            "   0.36587976]]\n"
          ]
        }
      ],
      "source": [
        "import numpy\n",
        "r = numpy.random.randn(2, 4096)\n",
        "data = bifrost.ndarray(r)\n",
        "print(type(data), data.dtype, data.shape, data.bf.space)\n",
        "print('r:', r)\n",
        "print('data:', data)"
      ]
    },
    {
      "cell_type": "markdown",
      "id": "earlier-latino",
      "metadata": {
        "id": "earlier-latino"
      },
      "source": [
        "Since `bifrost.ndarray`s are derived from numpy arrays they can do many (but not all) of the same things:"
      ]
    },
    {
      "cell_type": "code",
      "execution_count": 6,
      "id": "regional-darkness",
      "metadata": {
        "id": "regional-darkness",
        "outputId": "90fef638-53cf-4c47-9c85-da83fc6dbaf1",
        "colab": {
          "base_uri": "https://localhost:8080/"
        }
      },
      "outputs": [
        {
          "output_type": "stream",
          "name": "stdout",
          "text": [
            "data += 2.0: [[1.6584096  2.07395837 3.1215293  ... 2.52340138 1.56630252 2.99678685]\n",
            " [1.25731353 3.9056947  1.76287845 ... 2.65987519 3.13804761 2.36587976]]\n",
            "data[0,:] = 55: [[55.         55.         55.         ... 55.         55.\n",
            "  55.        ]\n",
            " [ 1.25731353  3.9056947   1.76287845 ...  2.65987519  3.13804761\n",
            "   2.36587976]]\n"
          ]
        }
      ],
      "source": [
        "data += 2.0\n",
        "print('data += 2.0:', data)\n",
        "data[0,:] = 55\n",
        "print('data[0,:] = 55:', data)"
      ]
    },
    {
      "cell_type": "code",
      "execution_count": 7,
      "id": "artificial-spider",
      "metadata": {
        "id": "artificial-spider",
        "outputId": "a27f7776-1f3c-45e1-8320-43d3ed6a2d5a",
        "colab": {
          "base_uri": "https://localhost:8080/"
        }
      },
      "outputs": [
        {
          "output_type": "stream",
          "name": "stdout",
          "text": [
            "data[:,[1,3,5,7]] = 10: [[55.         55.         55.         ... 55.         55.\n",
            "  55.        ]\n",
            " [ 1.25731353  3.9056947   1.76287845 ...  2.65987519  3.13804761\n",
            "   2.36587976]]\n"
          ]
        }
      ],
      "source": [
        "data[:,[1,3,5,7]] = 10\n",
        "print('data[:,[1,3,5,7]] = 10:', data)"
      ]
    },
    {
      "cell_type": "markdown",
      "id": "thirty-stretch",
      "metadata": {
        "id": "thirty-stretch"
      },
      "source": [
        "You can also use `bifrost.ndarray`s with [numba](https://numba.pydata.org/):"
      ]
    },
    {
      "cell_type": "code",
      "execution_count": 8,
      "id": "smaller-organizer",
      "metadata": {
        "id": "smaller-organizer",
        "outputId": "6bfd54c2-16e7-4fdb-b5ce-3155ae447ce9",
        "colab": {
          "base_uri": "https://localhost:8080/"
        }
      },
      "outputs": [
        {
          "output_type": "stream",
          "name": "stdout",
          "text": [
            "<class 'bifrost.ndarray.ndarray'> [[65.         65.         65.         ... 65.         65.\n",
            "  65.        ]\n",
            " [11.25731353 13.9056947  11.76287845 ... 12.65987519 13.13804761\n",
            "  12.36587976]]\n"
          ]
        }
      ],
      "source": [
        "from numba import jit\n",
        "\n",
        "@jit(nopython=True)\n",
        "def compute(x):\n",
        "    for i in range(len(x)):\n",
        "        x[i] = x[i] + 10\n",
        "\n",
        "compute(data)\n",
        "print(type(data), data)"
      ]
    },
    {
      "cell_type": "markdown",
      "id": "informative-brush",
      "metadata": {
        "id": "informative-brush"
      },
      "source": [
        "### Arrays on the CPU and GPU"
      ]
    },
    {
      "cell_type": "markdown",
      "id": "acute-efficiency",
      "metadata": {
        "id": "acute-efficiency"
      },
      "source": [
        "Unlike numpy arrays `bifrost.ndarray` are \"space aware\", meaning that they can exist in different memory spaces.  What we have created so far is in system memory.  `bifrost.ndarray`s can also exist in \"cuda_host\" (pinned) memory and \"cuda\" (GPU) memory:"
      ]
    },
    {
      "cell_type": "code",
      "execution_count": 9,
      "id": "changing-enhancement",
      "metadata": {
        "id": "changing-enhancement",
        "outputId": "8def579b-b38e-44dc-efbc-2b59655a8185",
        "colab": {
          "base_uri": "https://localhost:8080/"
        }
      },
      "outputs": [
        {
          "output_type": "stream",
          "name": "stdout",
          "text": [
            "<class 'bifrost.ndarray.ndarray'> float32 (2, 4096) cuda_host\n",
            "<class 'bifrost.ndarray.ndarray'> float32 (2, 4096) cuda\n"
          ]
        }
      ],
      "source": [
        "data2 = bifrost.ndarray(shape=(2,4096), dtype='f32', space='cuda_host')\n",
        "data3 = bifrost.ndarray(shape=(2,4096), dtype='f32', space='cuda')\n",
        "print(type(data2), data2.dtype, data2.shape, data2.bf.space)\n",
        "print(type(data3), data3.dtype, data3.shape, data3.bf.space)"
      ]
    },
    {
      "cell_type": "markdown",
      "id": "million-guess",
      "metadata": {
        "id": "million-guess"
      },
      "source": [
        "To move between the different spaces the `bifrost.ndarray` class provides a `copy` method:"
      ]
    },
    {
      "cell_type": "code",
      "execution_count": 10,
      "id": "talented-lending",
      "metadata": {
        "id": "talented-lending",
        "outputId": "575c6d4e-009f-45cc-de40-5b19aa96b27e",
        "colab": {
          "base_uri": "https://localhost:8080/"
        }
      },
      "outputs": [
        {
          "output_type": "stream",
          "name": "stdout",
          "text": [
            "<class 'bifrost.ndarray.ndarray'> float64 (2, 4096) cuda\n"
          ]
        }
      ],
      "source": [
        "data4 = data.copy(space='cuda')\n",
        "print(type(data4), data4.dtype, data4.shape, data4.bf.space)"
      ]
    },
    {
      "cell_type": "markdown",
      "id": "stable-instrumentation",
      "metadata": {
        "id": "stable-instrumentation"
      },
      "source": [
        "Once on the GPU you can take advantage of Bifrost's GPU-based functions, like `bifrost.map`:"
      ]
    },
    {
      "cell_type": "code",
      "execution_count": 11,
      "id": "prospective-financing",
      "metadata": {
        "id": "prospective-financing",
        "outputId": "f8b315b1-1a21-4e7b-f4b4-38af5ed37c11",
        "colab": {
          "base_uri": "https://localhost:8080/"
        }
      },
      "outputs": [
        {
          "output_type": "stream",
          "name": "stdout",
          "text": [
            "data4/data = data*10/data = 10: [[10. 10. 10. ... 10. 10. 10.]\n",
            " [10. 10. 10. ... 10. 10. 10.]]\n"
          ]
        }
      ],
      "source": [
        "bifrost.map(\"a(i,j) *= 10\",\n",
        "            {'a': data4},\n",
        "            axis_names=('i', 'j'),\n",
        "            shape=data4.shape)\n",
        "data4 = data4.copy(space='system')\n",
        "print('data4/data = data*10/data = 10:', data4/data)"
      ]
    },
    {
      "cell_type": "markdown",
      "id": "amateur-bridges",
      "metadata": {
        "id": "amateur-bridges"
      },
      "source": [
        "The `bifrost.map` call here compiles and runs a CUDA kernel that does an element-wise multiplication by ten.  In order to view the results of this kernel call we need to copy the memory back to the \"system\" memory space.  In the future we hope to support a \"cuda_managed\" space to make this easier."
      ]
    },
    {
      "cell_type": "markdown",
      "id": "vocational-archives",
      "metadata": {
        "id": "vocational-archives"
      },
      "source": [
        "`bifrost.map` is an example of a function that does not require any additional setup to run. This code is converted into a CUDA kernel at runtime, using [NVRTC](https://docs.nvidia.com/cuda/nvrtc/index.html). \n",
        "\n",
        "For some Bifrost functions, like `bifrost.fft.Fft`, some setup is required so that the function knows how to run. To show the use of the Bifrost FFT, let us first make some example data on the GPU, using `bf.map`:"
      ]
    },
    {
      "cell_type": "code",
      "execution_count": 12,
      "id": "restricted-carrier",
      "metadata": {
        "id": "restricted-carrier",
        "outputId": "4645aa43-2fbe-47eb-c051-727cef930472",
        "colab": {
          "base_uri": "https://localhost:8080/",
          "height": 297
        }
      },
      "outputs": [
        {
          "output_type": "execute_result",
          "data": {
            "text/plain": [
              "<matplotlib.legend.Legend at 0x7f5922a78290>"
            ]
          },
          "metadata": {},
          "execution_count": 12
        },
        {
          "output_type": "display_data",
          "data": {
            "text/plain": [
              "<Figure size 432x288 with 1 Axes>"
            ],
            "image/png": "[encoded data removed]"
          },
          "metadata": {
            "needs_background": "light"
          }
        }
      ],
      "source": [
        "data = bifrost.ndarray(shape=(16, 4096), dtype='cf32', space='cuda')\n",
        "bifrost.map(\"a(i,j) = exp(Complex<float>(0.0, 2*3.14*i*j/4096))\",\n",
        "            {'a': data},\n",
        "            axis_names=('i', 'j'),\n",
        "            shape=data.shape)\n",
        "data2 = data.copy(space='system')\n",
        "\n",
        "import pylab\n",
        "pylab.plot(data2[0,:].real, label='Re0')\n",
        "#pylab.plot(data2[0,:].imag, label='Im0')\n",
        "pylab.plot(data2[2,:].real, label='Re2')\n",
        "#pylab.plot(data2[2,:].imag, label='Im2')\n",
        "pylab.plot(data2[5,:].real, label='Re5')\n",
        "#pylab.plot(data2[5,:].imag, label='Im5')\n",
        "pylab.xlabel('Time')\n",
        "pylab.ylabel('Value')\n",
        "pylab.legend(loc=0)"
      ]
    },
    {
      "cell_type": "markdown",
      "id": "soviet-conference",
      "metadata": {
        "id": "soviet-conference"
      },
      "source": [
        "Now run the FFT and plot the results. The FFT is initialised using its `.init` method, and then executed using its `.execute` method.  An output data array also needs to be pre-allocated :"
      ]
    },
    {
      "cell_type": "code",
      "execution_count": 13,
      "id": "moral-worship",
      "metadata": {
        "id": "moral-worship",
        "outputId": "df15893d-a150-41dc-bd17-d76a73f04deb",
        "colab": {
          "base_uri": "https://localhost:8080/",
          "height": 297
        }
      },
      "outputs": [
        {
          "output_type": "execute_result",
          "data": {
            "text/plain": [
              "<matplotlib.legend.Legend at 0x7f59227d2350>"
            ]
          },
          "metadata": {},
          "execution_count": 13
        },
        {
          "output_type": "display_data",
          "data": {
            "text/plain": [
              "<Figure size 432x288 with 1 Axes>"
            ],
            "image/png": "[encoded data removed]"
          },
          "metadata": {
            "needs_background": "light"
          }
        }
      ],
      "source": [
        "fdata = bifrost.ndarray(shape=data.shape, dtype='cf32', space='cuda')\n",
        "f = bifrost.fft.Fft()\n",
        "f.init(data, fdata, axes=1, apply_fftshift=True)\n",
        "f.execute(data, fdata)\n",
        "fdata2 = fdata.copy(space='system')\n",
        "ffreqs = numpy.fft.fftfreq(fdata2.shape[1], d=1/4096.)\n",
        "ffreqs = numpy.fft.fftshift(ffreqs)\n",
        "\n",
        "pylab.semilogy(ffreqs, numpy.abs(fdata2[0,:])**2, label='0')\n",
        "pylab.semilogy(ffreqs, numpy.abs(fdata2[2,:])**2, label='2')\n",
        "pylab.semilogy(ffreqs, numpy.abs(fdata2[5,:])**2, label='5')\n",
        "pylab.xlabel('Frequency')\n",
        "pylab.ylabel('Power')\n",
        "pylab.xlim(-10, 10)\n",
        "pylab.xticks([-10,-5,0,2,5,10])\n",
        "pylab.legend(loc=0)"
      ]
    }
  ],
  "metadata": {
    "kernelspec": {
      "display_name": "Python 3",
      "language": "python",
      "name": "python3"
    },
    "language_info": {
      "codemirror_mode": {
        "name": "ipython",
        "version": 3
      },
      "file_extension": ".py",
      "mimetype": "text/x-python",
      "name": "python",
      "nbconvert_exporter": "python",
      "pygments_lexer": "ipython3",
      "version": "3.7.6"
    },
    "colab": {
      "name": "00_getting_started.ipynb",
      "provenance": []
    },
    "accelerator": "GPU",
    "gpuClass": "standard"
  },
  "nbformat": 4,
  "nbformat_minor": 5
}
